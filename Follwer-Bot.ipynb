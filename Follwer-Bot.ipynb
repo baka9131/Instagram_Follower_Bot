{
 "cells": [
  {
   "cell_type": "markdown",
   "id": "77028a11",
   "metadata": {},
   "source": [
    "# Import"
   ]
  },
  {
   "cell_type": "code",
   "execution_count": null,
   "id": "608f4119",
   "metadata": {},
   "outputs": [],
   "source": [
    "from selenium import webdriver\n",
    "from selenium.webdriver.common.by import By\n",
    "from selenium.webdriver.common.keys import Keys\n",
    "from selenium.webdriver.support.ui import WebDriverWait\n",
    "from selenium.webdriver.support import expected_conditions as EC\n",
    "from selenium.webdriver.common.action_chains import ActionChains\n",
    "\n",
    "from time import sleep\n",
    "import random\n",
    "import re"
   ]
  },
  {
   "cell_type": "markdown",
   "id": "97b4c2db",
   "metadata": {},
   "source": [
    "# Print Color"
   ]
  },
  {
   "cell_type": "code",
   "execution_count": null,
   "id": "2dd9395a",
   "metadata": {},
   "outputs": [],
   "source": [
    "# 파이썬 출력 글씨 색상 코드\n",
    "class Colors: \n",
    "    BLACK = '\\033[30m' \n",
    "    RED = '\\033[31m' \n",
    "    GREEN = '\\033[32m' \n",
    "    YELLOW = '\\033[33m' \n",
    "    BLUE = '\\033[34m' \n",
    "    MAGENTA = '\\033[35m' \n",
    "    CYAN = '\\033[36m' \n",
    "    WHITE = '\\033[37m' \n",
    "    UNDERLINE = '\\033[4m' \n",
    "    RESET = '\\033[0m'"
   ]
  },
  {
   "cell_type": "markdown",
   "id": "8711272a",
   "metadata": {},
   "source": [
    "# Setting"
   ]
  },
  {
   "cell_type": "code",
   "execution_count": null,
   "id": "b6dae273",
   "metadata": {},
   "outputs": [],
   "source": [
    "# 파이썬 코드창 가로 길이 확장\n",
    "from IPython.core.display import display, HTML\n",
    "display(HTML(\"<style>.container { width:100% !important; }</style>\"))"
   ]
  },
  {
   "cell_type": "code",
   "execution_count": null,
   "id": "e44e42a2",
   "metadata": {},
   "outputs": [],
   "source": [
    "options = webdriver.ChromeOptions()\n",
    "options.add_argument('window-size=930,700')\n",
    "driver = webdriver.Chrome('chromedriver',options=options)"
   ]
  },
  {
   "cell_type": "markdown",
   "id": "54d348e7",
   "metadata": {},
   "source": [
    "# Start Page"
   ]
  },
  {
   "cell_type": "code",
   "execution_count": null,
   "id": "2d7babdf",
   "metadata": {},
   "outputs": [],
   "source": [
    "# 대기 시간\n",
    "driver.implicitly_wait(time_to_wait=60)\n",
    "\n",
    "# 인스타그램 접속\n",
    "URL = 'https://www.instagram.com/'\n",
    "driver.get(url=URL)"
   ]
  },
  {
   "cell_type": "code",
   "execution_count": null,
   "id": "dbbe1a7a",
   "metadata": {},
   "outputs": [],
   "source": [
    "# 아이디 입력\n",
    "elem = driver.find_element(By.XPATH,'//*[@id=\"loginForm\"]/div/div[1]/div/label/input')\n",
    "elem.send_keys('xxxxxxxx@gmail.com')\n",
    "\n",
    "# 비밀번호 입력\n",
    "elem = driver.find_element(By.XPATH,'//*[@id=\"loginForm\"]/div/div[2]/div/label/input')\n",
    "elem.send_keys('xxxxxxxxxx')\n",
    "\n",
    "# 엔터키 입력\n",
    "elem.send_keys(Keys.RETURN)"
   ]
  },
  {
   "cell_type": "code",
   "execution_count": null,
   "id": "fa32233b",
   "metadata": {},
   "outputs": [],
   "source": [
    "# 원하는 인스타그램 해시태그 타겟팅 입력\n",
    "tag = input()\n",
    "URL = 'https://www.instagram.com/explore/tags/' + tag\n",
    "driver.get(url=URL)"
   ]
  },
  {
   "cell_type": "markdown",
   "id": "5798272d",
   "metadata": {},
   "source": [
    "<hr>"
   ]
  },
  {
   "cell_type": "markdown",
   "id": "41e23abb",
   "metadata": {},
   "source": [
    "# Follwer-Bot"
   ]
  },
  {
   "cell_type": "code",
   "execution_count": null,
   "id": "e42d278f",
   "metadata": {},
   "outputs": [],
   "source": [
    "# 피드에서 가장 최근에 올라온 첫번째 게시글 클릭\n",
    "driver.find_element(By.XPATH,'//*[@id=\"react-root\"]/section/main/article/div[2]/div/div[1]/div[1]').click()"
   ]
  },
  {
   "cell_type": "code",
   "execution_count": null,
   "id": "ae6b4b87",
   "metadata": {},
   "outputs": [],
   "source": [
    "# 초키 카운트 값 설정\n",
    "count = 1\n",
    "l_name = \"NULL\""
   ]
  },
  {
   "cell_type": "code",
   "execution_count": null,
   "id": "463c8334",
   "metadata": {
    "scrolled": false
   },
   "outputs": [],
   "source": [
    "while(True):\n",
    "    # 현재 페이지의 사용자의 이름을 저장\n",
    "    f_name = driver.find_element(By.XPATH,'//div[@class=\"e1e1d\"]/span/a[@href]').text\n",
    "\n",
    "    # 1. 이름 중복 체크\n",
    "    if ( f_name != l_name ):\n",
    "\n",
    "        # 2. 현재 팔로우 상태인지 아닌지 체크\n",
    "        if( driver.find_element(By.XPATH,'//div[@class=\"bY2yH\"]/button').text == \"팔로우\" ):\n",
    "            # 사용자의 정보에 마우스 이동하여 정보를 띄움\n",
    "            info = driver.find_element(By.XPATH,'/html/body/div[6]/div[2]/div/article/div/div[2]/div/div/div[1]/div/header/div[2]/div[1]/div[1]/span')\n",
    "            ActionChains(driver).move_to_element(info).perform()\n",
    "\n",
    "            # 나를 추가해준 사람\n",
    "            팔로워 = driver.find_element(By.XPATH,'/html/body/div[7]/div/div/div[2]/div/div/div[2]/span/span').text\n",
    "            팔로워 = float(re.sub('[^0-9]','',팔로워))\n",
    "            # 내가 추가한 사람\n",
    "            팔로우 = driver.find_element(By.XPATH,'/html/body/div[7]/div/div/div[2]/div/div/div[3]/span/span').text\n",
    "            팔로우 = float(re.sub('[^0-9]','',팔로우))\n",
    "\n",
    "            # 3. 팔로우 수 가 더 많은지 체크\n",
    "            if( 팔로워/1.3 < 팔로우 ):\n",
    "                # 팝업창 팔로우 버튼 클릭 Action\n",
    "                driver.find_element(By.XPATH,'//div[@class=\"             qF0y9          Igw0E     IwRSH      eGOV_         _4EzTm                                                                                   XfCBB            g6RW6               \"]').click()\n",
    "                print(Colors.MAGENTA + str(count) + Colors.RESET + \" / \" + f_name + Colors.BLUE + \" 팔로우 완료\" + Colors.RESET)\n",
    "                # 카운트값 1 증가\n",
    "                count += 1\n",
    "\n",
    "                # 팔로우가 끝난 후 닫기 버튼으로 마우스 이동하여 팝업창 닫음\n",
    "                ActionChains(driver).move_to_element(driver.find_element(By.TAG_NAME,'svg[aria-label=닫기]')).perform()\n",
    "\n",
    "                # 4. 좋아요 버튼이 체크가 안되있는지 판별\n",
    "                like = driver.find_element(By.XPATH,\"//span[@class='fr66n']\")\n",
    "                like = like.find_element(By.TAG_NAME,'svg')\n",
    "                like = like.get_attribute('aria-label')\n",
    "\n",
    "                # 팔로우 과정이 끝나고 좋아요 안눌러져 있으면 좋아요 버튼 클릭\n",
    "                if( like == '좋아요'):\n",
    "                    # 좋아요 버튼을 찾아서 클릭\n",
    "                    driver.find_element(By.XPATH,\"//span[@class='fr66n']\").find_element(By.TAG_NAME,'button').click()\n",
    "                    print(f_name + Colors.RED + \" 좋아요 완료\" + Colors.RESET)\n",
    "\n",
    "                # 다음 창으로 넘어가기\n",
    "                driver.find_element(By.XPATH,'//div[@class=\" l8mY4 feth3\"]').find_element(By.TAG_NAME,'button').click()\n",
    "                sleep(15 + random.randint(15,30))\n",
    "\n",
    "            # 3끝\n",
    "            else:\n",
    "                print(f_name + Colors.WHITE + \" 팔로우 부족으로 인한 패스\" + Colors.RESET)\n",
    "                # 닫기 버튼으로 마우스 이동하여 팝업창 닫음\n",
    "                ActionChains(driver).move_to_element(driver.find_element(By.TAG_NAME,'svg[aria-label=닫기]')).perform()\n",
    "\n",
    "                # 다음 창으로 넘어가기\n",
    "                driver.find_element(By.XPATH,'//div[@class=\" l8mY4 feth3\"]').find_element(By.TAG_NAME,'button').click()\n",
    "                sleep(1 + random.randint(1,5))\n",
    "        # 2끝\n",
    "        elif ( driver.find_element(By.XPATH,'//div[@class=\"bY2yH\"]/button').text == \"팔로잉\" ):\n",
    "            print(f_name + Colors.WHITE + \" 팔로잉 된 사람으로 인한 패스\" + Colors.RESET)\n",
    "            driver.find_element(By.XPATH,'//div[@class=\" l8mY4 feth3\"]').find_element(By.TAG_NAME,'button').click()\n",
    "            sleep(1 + random.randint(1,5))\n",
    "\n",
    "    # 1끝\n",
    "    else:\n",
    "        print(f_name + Colors.WHITE + \" 닉네임 중복으로 인한 패스\" + Colors.RESET)\n",
    "        driver.find_element(By.XPATH,'//div[@class=\" l8mY4 feth3\"]').find_element(By.TAG_NAME,'button').click()\n",
    "        sleep(1 + random.randint(1,5))\n",
    "    \n",
    "    # 이전 페이지의 사용자의 이름을 l_name에 저장함\n",
    "    l_name = f_name\n",
    "    \n",
    "    print(Colors.RED + \"-\"*50)"
   ]
  },
  {
   "cell_type": "code",
   "execution_count": null,
   "id": "146a6ed2",
   "metadata": {},
   "outputs": [],
   "source": []
  }
 ],
 "metadata": {
  "kernelspec": {
   "display_name": "Python 3 (ipykernel)",
   "language": "python",
   "name": "python3"
  },
  "language_info": {
   "codemirror_mode": {
    "name": "ipython",
    "version": 3
   },
   "file_extension": ".py",
   "mimetype": "text/x-python",
   "name": "python",
   "nbconvert_exporter": "python",
   "pygments_lexer": "ipython3",
   "version": "3.9.7"
  }
 },
 "nbformat": 4,
 "nbformat_minor": 5
}
